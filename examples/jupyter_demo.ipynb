{
 "cells": [
  {
   "cell_type": "code",
   "execution_count": null,
   "id": "initial_id",
   "metadata": {
    "collapsed": true
   },
   "outputs": [],
   "source": [
    "# import packages\n",
    "import logging\n",
    "import os\n",
    "\n",
    "import dotenv\n",
    "\n",
    "import schwabdev"
   ]
  },
  {
   "cell_type": "code",
   "execution_count": null,
   "id": "99702f6a92a22ca7",
   "metadata": {},
   "outputs": [],
   "source": [
    "# set logging level\n",
    "logging.basicConfig(level=logging.INFO)\n",
    "\n",
    "# load environment variables and make client\n",
    "dotenv.load_dotenv()\n",
    "client = schwabdev.Client(os.getenv('app_key'), os.getenv('app_secret'), os.getenv('callback_url'))"
   ]
  },
  {
   "cell_type": "markdown",
   "id": "5cfc8e6c5d21383",
   "metadata": {},
   "source": [
    "# Basic API calls"
   ]
  },
  {
   "cell_type": "code",
   "execution_count": null,
   "id": "99904111f851f396",
   "metadata": {},
   "outputs": [],
   "source": [
    "# get account number and hashes for linked accounts\n",
    "linked_accounts = client.account_linked().json()\n",
    "print(linked_accounts)\n",
    "# select the first account to use for orders\n",
    "account_hash = linked_accounts[0].get('hashValue')"
   ]
  },
  {
   "cell_type": "code",
   "execution_count": null,
   "id": "7ee8091c36c0d066",
   "metadata": {},
   "outputs": [],
   "source": [
    "# get positions for selected account\n",
    "print(client.account_details(account_hash, fields='positions').json())"
   ]
  },
  {
   "cell_type": "code",
   "execution_count": null,
   "id": "706a555f317f99ee",
   "metadata": {},
   "outputs": [],
   "source": [
    "# get a list of quotes\n",
    "print(client.quotes(['AAPL', 'AMD']).json())"
   ]
  },
  {
   "cell_type": "code",
   "execution_count": null,
   "id": "791f4d37b7a1cb5e",
   "metadata": {},
   "outputs": [],
   "source": [
    "# get an option chain\n",
    "print(client.option_expiration_chain('AAPL').json())"
   ]
  },
  {
   "cell_type": "markdown",
   "id": "c7e3dc8274757630",
   "metadata": {},
   "source": [
    "# Order example"
   ]
  },
  {
   "cell_type": "code",
   "execution_count": null,
   "id": "12ce8ea103853c49",
   "metadata": {},
   "outputs": [],
   "source": [
    "# place an order for INTC at limit price $10.00\n",
    "order = {\n",
    "    'orderType': 'LIMIT',\n",
    "    'session': 'NORMAL',\n",
    "    'duration': 'DAY',\n",
    "    'orderStrategyType': 'SINGLE',\n",
    "    'price': '10.00',\n",
    "    'orderLegCollection': [\n",
    "        {\n",
    "            'instruction': 'BUY',\n",
    "            'quantity': 1,\n",
    "            'instrument': {'symbol': 'INTC', 'assetType': 'EQUITY'},\n",
    "        }\n",
    "    ],\n",
    "}\n",
    "resp = client.order_place(account_hash, order)\n",
    "print(f'Response code: {resp}')\n",
    "\n",
    "# get the order ID - if order is immediately filled then the id might not be returned\n",
    "order_id = resp.headers.get('location', '/').split('/')[-1]\n",
    "print(f'Order id: {order_id}')"
   ]
  },
  {
   "cell_type": "code",
   "execution_count": null,
   "id": "4f95a82378df8e73",
   "metadata": {
    "jupyter": {
     "is_executing": true
    }
   },
   "outputs": [],
   "source": [
    "# cancel the order\n",
    "print(client.order_cancel(account_hash, order_id))"
   ]
  },
  {
   "cell_type": "markdown",
   "id": "20bb6b09489bf1a9",
   "metadata": {},
   "source": [
    "# Streaming example"
   ]
  },
  {
   "cell_type": "code",
   "execution_count": null,
   "id": "96d8a48e39b05465",
   "metadata": {},
   "outputs": [],
   "source": [
    "# create streamer\n",
    "streamer = client.stream"
   ]
  },
  {
   "cell_type": "code",
   "execution_count": null,
   "id": "9449da0e5ab23a6b",
   "metadata": {},
   "outputs": [],
   "source": [
    "# create a list to store responses\n",
    "responses = []\n",
    "\n",
    "\n",
    "def add_to_list(message):\n",
    "    responses.append(message)"
   ]
  },
  {
   "cell_type": "code",
   "execution_count": null,
   "id": "7cdeaaa69efb6f3f",
   "metadata": {},
   "outputs": [],
   "source": [
    "# start stream and send request\n",
    "streamer.start(add_to_list)\n",
    "streamer.send(streamer.level_one_equities('AMD', '0,1,2,3,4,5,6,7,8'))"
   ]
  },
  {
   "cell_type": "code",
   "execution_count": null,
   "id": "4241513b2fbf9f6e",
   "metadata": {},
   "outputs": [],
   "source": [
    "# check responses\n",
    "print(responses)"
   ]
  },
  {
   "cell_type": "code",
   "execution_count": null,
   "id": "cb5789c2248b6b54",
   "metadata": {},
   "outputs": [],
   "source": [
    "# stop stream\n",
    "streamer.stop()"
   ]
  }
 ],
 "metadata": {
  "kernelspec": {
   "display_name": "Python 3",
   "language": "python",
   "name": "python3"
  },
  "language_info": {
   "codemirror_mode": {
    "name": "ipython",
    "version": 2
   },
   "file_extension": ".py",
   "mimetype": "text/x-python",
   "name": "python",
   "nbconvert_exporter": "python",
   "pygments_lexer": "ipython2",
   "version": "3.10.12"
  }
 },
 "nbformat": 4,
 "nbformat_minor": 5
}
